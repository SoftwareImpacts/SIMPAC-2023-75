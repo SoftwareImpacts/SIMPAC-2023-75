{
 "cells": [
  {
   "cell_type": "markdown",
   "metadata": {},
   "source": [
    "# dicom2handle\n",
    "\n",
    "Herramienta que permite manipular archivos DICOM de estructuras. Realiza rotaciones, traslaciones, expande o contrae el tamaño de una estructura cualquiera de planes de radioterapia."
   ]
  },
  {
   "cell_type": "code",
   "execution_count": 1,
   "metadata": {},
   "outputs": [],
   "source": [
    "import os\n",
    "import pydicom\n",
    "\n",
    "from core import *\n",
    "import report"
   ]
  },
  {
   "cell_type": "markdown",
   "metadata": {},
   "source": [
    "## Registrar archivo DICOM\n",
    "\n",
    "Se requiere operar sobre un objeto DICOM (de estructuras RS.dcm), el cual es llamado como se muestra a continuación:"
   ]
  },
  {
   "cell_type": "code",
   "execution_count": 2,
   "metadata": {},
   "outputs": [],
   "source": [
    "file = os.listdir(os.chdir('/Users/alejandro/Desktop/1/rs'))\n",
    "dicom = pydicom.dcmread(file[1], force = True)"
   ]
  },
  {
   "cell_type": "markdown",
   "metadata": {},
   "source": [
    "## Anonimizar archivos DICOM\n",
    "\n",
    "Es posible anonimizar la información de un paciente por medio de la función anonymize. Esta función sobreescribe los datos personales del paciente a valores genéricos."
   ]
  },
  {
   "cell_type": "code",
   "execution_count": 3,
   "metadata": {},
   "outputs": [],
   "source": [
    "Dicominfo(dicom).anonymize()"
   ]
  },
  {
   "cell_type": "markdown",
   "metadata": {},
   "source": [
    "## Rotar una estructura\n",
    "\n",
    "Es posible rotar con respecto a un punto una estructura en cualquiera de los tres grados de libertad: roll, pitch y yaw. La entrada de la función rotate es: 'Nombre de la estructura', ángulo en grados a rotar (positivo o negativo), 'rotación en eje' (roll, pitch, yaw). Por defecto, el punto en el que realiza la rotación es el isocentro (centro de masa de las lesiones)."
   ]
  },
  {
   "cell_type": "code",
   "execution_count": 4,
   "metadata": {
    "scrolled": true
   },
   "outputs": [],
   "source": [
    "dicom1 = Dicominfo(dicom).rotate('5 GTV', 0.5, 'pitch')"
   ]
  },
  {
   "cell_type": "markdown",
   "metadata": {},
   "source": [
    "## Reporte estadístico\n",
    "\n",
    "Con la función report podemos comparar los movimientos entre dos estados de la misma estructura:"
   ]
  },
  {
   "cell_type": "code",
   "execution_count": 5,
   "metadata": {},
   "outputs": [
    {
     "data": {
      "text/html": [
       "<div>\n",
       "<style scoped>\n",
       "    .dataframe tbody tr th:only-of-type {\n",
       "        vertical-align: middle;\n",
       "    }\n",
       "\n",
       "    .dataframe tbody tr th {\n",
       "        vertical-align: top;\n",
       "    }\n",
       "\n",
       "    .dataframe thead th {\n",
       "        text-align: right;\n",
       "    }\n",
       "</style>\n",
       "<table border=\"1\" class=\"dataframe\">\n",
       "  <thead>\n",
       "    <tr style=\"text-align: right;\">\n",
       "      <th></th>\n",
       "      <th>Parameter</th>\n",
       "      <th>Value [mm]</th>\n",
       "    </tr>\n",
       "  </thead>\n",
       "  <tbody>\n",
       "    <tr>\n",
       "      <th>0</th>\n",
       "      <td>Max radius</td>\n",
       "      <td>4.229131</td>\n",
       "    </tr>\n",
       "    <tr>\n",
       "      <th>1</th>\n",
       "      <td>Min radius</td>\n",
       "      <td>1.444514</td>\n",
       "    </tr>\n",
       "    <tr>\n",
       "      <th>2</th>\n",
       "      <td>Mean radius</td>\n",
       "      <td>3.152265</td>\n",
       "    </tr>\n",
       "    <tr>\n",
       "      <th>3</th>\n",
       "      <td>STD radius</td>\n",
       "      <td>0.554659</td>\n",
       "    </tr>\n",
       "    <tr>\n",
       "      <th>4</th>\n",
       "      <td>Variance radius</td>\n",
       "      <td>0.307646</td>\n",
       "    </tr>\n",
       "    <tr>\n",
       "      <th>5</th>\n",
       "      <td>Max distance</td>\n",
       "      <td>0.170817</td>\n",
       "    </tr>\n",
       "    <tr>\n",
       "      <th>6</th>\n",
       "      <td>Min distance</td>\n",
       "      <td>0.113221</td>\n",
       "    </tr>\n",
       "    <tr>\n",
       "      <th>7</th>\n",
       "      <td>Mean distance</td>\n",
       "      <td>0.142280</td>\n",
       "    </tr>\n",
       "    <tr>\n",
       "      <th>8</th>\n",
       "      <td>STD distance</td>\n",
       "      <td>0.015399</td>\n",
       "    </tr>\n",
       "    <tr>\n",
       "      <th>9</th>\n",
       "      <td>Variance distance</td>\n",
       "      <td>0.000237</td>\n",
       "    </tr>\n",
       "    <tr>\n",
       "      <th>10</th>\n",
       "      <td>Distance between center mass</td>\n",
       "      <td>0.141891</td>\n",
       "    </tr>\n",
       "  </tbody>\n",
       "</table>\n",
       "</div>"
      ],
      "text/plain": [
       "                       Parameter  Value [mm]\n",
       "0                     Max radius    4.229131\n",
       "1                     Min radius    1.444514\n",
       "2                    Mean radius    3.152265\n",
       "3                     STD radius    0.554659\n",
       "4                Variance radius    0.307646\n",
       "5                   Max distance    0.170817\n",
       "6                   Min distance    0.113221\n",
       "7                  Mean distance    0.142280\n",
       "8                   STD distance    0.015399\n",
       "9              Variance distance    0.000237\n",
       "10  Distance between center mass    0.141891"
      ]
     },
     "execution_count": 5,
     "metadata": {},
     "output_type": "execute_result"
    }
   ],
   "source": [
    "report.report(dicom1, dicom, '5 GTV')"
   ]
  },
  {
   "cell_type": "markdown",
   "metadata": {},
   "source": [
    "## Rotar una estructura en un punto distinto al isocentro\n",
    "\n",
    "Es posible rotar una estructura en cualquiera de los tres grados de libertad: roll, pitch y yaw en un punto distinto al isocentro de referencia. La entrada de la función rotate es: 'Nombre de la estructura', ángulo en grados a rotar (positivo o negativo), 'rotación en eje' (roll, pitch, yaw) y coordenadas del punto de referencia para rotar [x, y, z]."
   ]
  },
  {
   "cell_type": "code",
   "execution_count": 6,
   "metadata": {},
   "outputs": [],
   "source": [
    "dicom_offisocenter = Dicominfo(dicom).rotate('5 GTV', 0.5, 'pitch', [4.0, -50.0, 20.0])"
   ]
  },
  {
   "cell_type": "code",
   "execution_count": 7,
   "metadata": {},
   "outputs": [
    {
     "data": {
      "text/html": [
       "<div>\n",
       "<style scoped>\n",
       "    .dataframe tbody tr th:only-of-type {\n",
       "        vertical-align: middle;\n",
       "    }\n",
       "\n",
       "    .dataframe tbody tr th {\n",
       "        vertical-align: top;\n",
       "    }\n",
       "\n",
       "    .dataframe thead th {\n",
       "        text-align: right;\n",
       "    }\n",
       "</style>\n",
       "<table border=\"1\" class=\"dataframe\">\n",
       "  <thead>\n",
       "    <tr style=\"text-align: right;\">\n",
       "      <th></th>\n",
       "      <th>Parameter</th>\n",
       "      <th>Value [mm]</th>\n",
       "    </tr>\n",
       "  </thead>\n",
       "  <tbody>\n",
       "    <tr>\n",
       "      <th>0</th>\n",
       "      <td>Max radius</td>\n",
       "      <td>4.229131</td>\n",
       "    </tr>\n",
       "    <tr>\n",
       "      <th>1</th>\n",
       "      <td>Min radius</td>\n",
       "      <td>1.444514</td>\n",
       "    </tr>\n",
       "    <tr>\n",
       "      <th>2</th>\n",
       "      <td>Mean radius</td>\n",
       "      <td>3.152265</td>\n",
       "    </tr>\n",
       "    <tr>\n",
       "      <th>3</th>\n",
       "      <td>STD radius</td>\n",
       "      <td>0.554659</td>\n",
       "    </tr>\n",
       "    <tr>\n",
       "      <th>4</th>\n",
       "      <td>Variance radius</td>\n",
       "      <td>0.307646</td>\n",
       "    </tr>\n",
       "    <tr>\n",
       "      <th>5</th>\n",
       "      <td>Max distance</td>\n",
       "      <td>0.411917</td>\n",
       "    </tr>\n",
       "    <tr>\n",
       "      <th>6</th>\n",
       "      <td>Min distance</td>\n",
       "      <td>0.363764</td>\n",
       "    </tr>\n",
       "    <tr>\n",
       "      <th>7</th>\n",
       "      <td>Mean distance</td>\n",
       "      <td>0.387142</td>\n",
       "    </tr>\n",
       "    <tr>\n",
       "      <th>8</th>\n",
       "      <td>STD distance</td>\n",
       "      <td>0.012589</td>\n",
       "    </tr>\n",
       "    <tr>\n",
       "      <th>9</th>\n",
       "      <td>Variance distance</td>\n",
       "      <td>0.000158</td>\n",
       "    </tr>\n",
       "    <tr>\n",
       "      <th>10</th>\n",
       "      <td>Distance between center mass</td>\n",
       "      <td>0.387467</td>\n",
       "    </tr>\n",
       "  </tbody>\n",
       "</table>\n",
       "</div>"
      ],
      "text/plain": [
       "                       Parameter  Value [mm]\n",
       "0                     Max radius    4.229131\n",
       "1                     Min radius    1.444514\n",
       "2                    Mean radius    3.152265\n",
       "3                     STD radius    0.554659\n",
       "4                Variance radius    0.307646\n",
       "5                   Max distance    0.411917\n",
       "6                   Min distance    0.363764\n",
       "7                  Mean distance    0.387142\n",
       "8                   STD distance    0.012589\n",
       "9              Variance distance    0.000158\n",
       "10  Distance between center mass    0.387467"
      ]
     },
     "execution_count": 7,
     "metadata": {},
     "output_type": "execute_result"
    }
   ],
   "source": [
    "report.report(dicom_offisocenter, dicom, '5 GTV')"
   ]
  },
  {
   "cell_type": "markdown",
   "metadata": {},
   "source": [
    "## Trasladar una estructura\n",
    "\n",
    "Es posible trasladar una estructura en cualquiera de los tres grados de libertad: x, y, z. La entrada de la función rotate es: 'Nombre de la estructura', desplazamiento en mm a trasladar (positivo o negativo), 'traslación' (x, y, z)."
   ]
  },
  {
   "cell_type": "code",
   "execution_count": 8,
   "metadata": {},
   "outputs": [],
   "source": [
    "dicom2 = Dicominfo(dicom1).translate('5 GTV', 1.0, 'x')"
   ]
  },
  {
   "cell_type": "code",
   "execution_count": 9,
   "metadata": {},
   "outputs": [
    {
     "data": {
      "text/html": [
       "<div>\n",
       "<style scoped>\n",
       "    .dataframe tbody tr th:only-of-type {\n",
       "        vertical-align: middle;\n",
       "    }\n",
       "\n",
       "    .dataframe tbody tr th {\n",
       "        vertical-align: top;\n",
       "    }\n",
       "\n",
       "    .dataframe thead th {\n",
       "        text-align: right;\n",
       "    }\n",
       "</style>\n",
       "<table border=\"1\" class=\"dataframe\">\n",
       "  <thead>\n",
       "    <tr style=\"text-align: right;\">\n",
       "      <th></th>\n",
       "      <th>Parameter</th>\n",
       "      <th>Value [mm]</th>\n",
       "    </tr>\n",
       "  </thead>\n",
       "  <tbody>\n",
       "    <tr>\n",
       "      <th>0</th>\n",
       "      <td>Max radius</td>\n",
       "      <td>4.229131</td>\n",
       "    </tr>\n",
       "    <tr>\n",
       "      <th>1</th>\n",
       "      <td>Min radius</td>\n",
       "      <td>1.444514</td>\n",
       "    </tr>\n",
       "    <tr>\n",
       "      <th>2</th>\n",
       "      <td>Mean radius</td>\n",
       "      <td>3.152265</td>\n",
       "    </tr>\n",
       "    <tr>\n",
       "      <th>3</th>\n",
       "      <td>STD radius</td>\n",
       "      <td>0.554659</td>\n",
       "    </tr>\n",
       "    <tr>\n",
       "      <th>4</th>\n",
       "      <td>Variance radius</td>\n",
       "      <td>0.307646</td>\n",
       "    </tr>\n",
       "    <tr>\n",
       "      <th>5</th>\n",
       "      <td>Max distance</td>\n",
       "      <td>0.923928</td>\n",
       "    </tr>\n",
       "    <tr>\n",
       "      <th>6</th>\n",
       "      <td>Min distance</td>\n",
       "      <td>0.883488</td>\n",
       "    </tr>\n",
       "    <tr>\n",
       "      <th>7</th>\n",
       "      <td>Mean distance</td>\n",
       "      <td>0.904142</td>\n",
       "    </tr>\n",
       "    <tr>\n",
       "      <th>8</th>\n",
       "      <td>STD distance</td>\n",
       "      <td>0.012240</td>\n",
       "    </tr>\n",
       "    <tr>\n",
       "      <th>9</th>\n",
       "      <td>Variance distance</td>\n",
       "      <td>0.000150</td>\n",
       "    </tr>\n",
       "    <tr>\n",
       "      <th>10</th>\n",
       "      <td>Distance between center mass</td>\n",
       "      <td>0.903102</td>\n",
       "    </tr>\n",
       "  </tbody>\n",
       "</table>\n",
       "</div>"
      ],
      "text/plain": [
       "                       Parameter  Value [mm]\n",
       "0                     Max radius    4.229131\n",
       "1                     Min radius    1.444514\n",
       "2                    Mean radius    3.152265\n",
       "3                     STD radius    0.554659\n",
       "4                Variance radius    0.307646\n",
       "5                   Max distance    0.923928\n",
       "6                   Min distance    0.883488\n",
       "7                  Mean distance    0.904142\n",
       "8                   STD distance    0.012240\n",
       "9              Variance distance    0.000150\n",
       "10  Distance between center mass    0.903102"
      ]
     },
     "execution_count": 9,
     "metadata": {},
     "output_type": "execute_result"
    }
   ],
   "source": [
    "report.report(dicom2, dicom, '5 GTV')"
   ]
  },
  {
   "cell_type": "markdown",
   "metadata": {},
   "source": [
    "## Expandir o contraer margen de una estructura\n",
    "\n",
    "Es posible expandir o contraer una estructura los mm requeridos. La entrada de la función add_margin: 'Nombre de la estructura', margen en mm (positivo si se expande, negativo si se contrae)."
   ]
  },
  {
   "cell_type": "code",
   "execution_count": 10,
   "metadata": {},
   "outputs": [],
   "source": [
    "dicom4 = Dicominfo(dicom).add_margin('5 GTV', 1.5)"
   ]
  },
  {
   "cell_type": "code",
   "execution_count": 11,
   "metadata": {},
   "outputs": [
    {
     "data": {
      "text/html": [
       "<div>\n",
       "<style scoped>\n",
       "    .dataframe tbody tr th:only-of-type {\n",
       "        vertical-align: middle;\n",
       "    }\n",
       "\n",
       "    .dataframe tbody tr th {\n",
       "        vertical-align: top;\n",
       "    }\n",
       "\n",
       "    .dataframe thead th {\n",
       "        text-align: right;\n",
       "    }\n",
       "</style>\n",
       "<table border=\"1\" class=\"dataframe\">\n",
       "  <thead>\n",
       "    <tr style=\"text-align: right;\">\n",
       "      <th></th>\n",
       "      <th>Parameter</th>\n",
       "      <th>Value [mm]</th>\n",
       "    </tr>\n",
       "  </thead>\n",
       "  <tbody>\n",
       "    <tr>\n",
       "      <th>0</th>\n",
       "      <td>Max radius</td>\n",
       "      <td>5.713829e+00</td>\n",
       "    </tr>\n",
       "    <tr>\n",
       "      <th>1</th>\n",
       "      <td>Min radius</td>\n",
       "      <td>2.739209e+00</td>\n",
       "    </tr>\n",
       "    <tr>\n",
       "      <th>2</th>\n",
       "      <td>Mean radius</td>\n",
       "      <td>4.521534e+00</td>\n",
       "    </tr>\n",
       "    <tr>\n",
       "      <th>3</th>\n",
       "      <td>STD radius</td>\n",
       "      <td>5.858771e-01</td>\n",
       "    </tr>\n",
       "    <tr>\n",
       "      <th>4</th>\n",
       "      <td>Variance radius</td>\n",
       "      <td>3.432519e-01</td>\n",
       "    </tr>\n",
       "    <tr>\n",
       "      <th>5</th>\n",
       "      <td>Max distance</td>\n",
       "      <td>1.500000e+00</td>\n",
       "    </tr>\n",
       "    <tr>\n",
       "      <th>6</th>\n",
       "      <td>Min distance</td>\n",
       "      <td>1.500000e+00</td>\n",
       "    </tr>\n",
       "    <tr>\n",
       "      <th>7</th>\n",
       "      <td>Mean distance</td>\n",
       "      <td>1.500000e+00</td>\n",
       "    </tr>\n",
       "    <tr>\n",
       "      <th>8</th>\n",
       "      <td>STD distance</td>\n",
       "      <td>2.577054e-13</td>\n",
       "    </tr>\n",
       "    <tr>\n",
       "      <th>9</th>\n",
       "      <td>Variance distance</td>\n",
       "      <td>6.641210e-26</td>\n",
       "    </tr>\n",
       "    <tr>\n",
       "      <th>10</th>\n",
       "      <td>Distance between center mass</td>\n",
       "      <td>2.649290e-02</td>\n",
       "    </tr>\n",
       "  </tbody>\n",
       "</table>\n",
       "</div>"
      ],
      "text/plain": [
       "                       Parameter    Value [mm]\n",
       "0                     Max radius  5.713829e+00\n",
       "1                     Min radius  2.739209e+00\n",
       "2                    Mean radius  4.521534e+00\n",
       "3                     STD radius  5.858771e-01\n",
       "4                Variance radius  3.432519e-01\n",
       "5                   Max distance  1.500000e+00\n",
       "6                   Min distance  1.500000e+00\n",
       "7                  Mean distance  1.500000e+00\n",
       "8                   STD distance  2.577054e-13\n",
       "9              Variance distance  6.641210e-26\n",
       "10  Distance between center mass  2.649290e-02"
      ]
     },
     "execution_count": 11,
     "metadata": {},
     "output_type": "execute_result"
    }
   ],
   "source": [
    "report.report(dicom4, dicom, '5 GTV')"
   ]
  },
  {
   "cell_type": "markdown",
   "metadata": {},
   "source": [
    "## Reporte completo en Excel\n",
    "\n",
    "Con la función dicom2excel se genera un archivo .xlsx en el directorio actual con la información de las coordenadas (x, y, z) de todas las estructuras de un paciente."
   ]
  },
  {
   "cell_type": "code",
   "execution_count": null,
   "metadata": {},
   "outputs": [],
   "source": [
    "Dicominfo(dicom).dicom2excel('reporte')"
   ]
  }
 ],
 "metadata": {
  "kernelspec": {
   "display_name": "Python 3 (ipykernel)",
   "language": "python",
   "name": "python3"
  },
  "language_info": {
   "codemirror_mode": {
    "name": "ipython",
    "version": 3
   },
   "file_extension": ".py",
   "mimetype": "text/x-python",
   "name": "python",
   "nbconvert_exporter": "python",
   "pygments_lexer": "ipython3",
   "version": "3.9.5"
  }
 },
 "nbformat": 4,
 "nbformat_minor": 4
}
